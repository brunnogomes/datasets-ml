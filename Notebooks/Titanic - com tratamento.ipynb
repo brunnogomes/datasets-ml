{
 "cells": [
  {
   "cell_type": "code",
   "execution_count": 1,
   "metadata": {},
   "outputs": [],
   "source": [
    "# Retirar os warnings - queremos somente os erros nos notebooks, e não eventuais alertas de 'deprecated methods'\n",
    "# ou 'default value assigned'\n",
    "\n",
    "import warnings\n",
    "warnings.filterwarnings('ignore')"
   ]
  },
  {
   "cell_type": "code",
   "execution_count": 2,
   "metadata": {},
   "outputs": [],
   "source": [
    "# Importar as ferramentas que serão usadas no notebook:\n",
    "\n",
    "# Pandas - para leitura e tratamento dos dados\n",
    "# NumPy - para operações numéricas otimizadas\n",
    "# Matplotlib + seaborn = gráficos\n",
    "\n",
    "# O %matplotlib inline é uma mágica do jupyter notebook que permite que os gráficos\n",
    "# sejam renderizados no próprio HTML do notebook.\n",
    "\n",
    "import pandas as pd\n",
    "import numpy as np\n",
    "import seaborn as sns\n",
    "import matplotlib.pyplot as plt\n",
    "%matplotlib inline"
   ]
  },
  {
   "cell_type": "code",
   "execution_count": 3,
   "metadata": {},
   "outputs": [],
   "source": [
    "# A função learning_curve retorna uma matriz com os resultados do cálculo da curva de aprendizado de um algoritmo.\n",
    "# Os parâmetros necessários são:\n",
    "# - Um estimador para ser treinado\n",
    "# - As entradas (X) de treinamento\n",
    "# - As saídas (y) de treinamento\n",
    "# - O número - opcional - de pontos para avaliação do treinamento. São porcentagens do total de dados de treinamento.\n",
    "\n",
    "from sklearn.model_selection import learning_curve\n",
    "\n",
    "\n",
    "# A função plot_learning_curve desenha um gráfico com os dados da matriz.\n",
    "def plot_learning_curve(estimator, X, y):\n",
    "    \n",
    "    # O gráfico é inicializado com as características principais\n",
    "    plt.figure()\n",
    "    plt.title(\"Curva de Aprendizado\")\n",
    "    plt.xlabel('Pontos do treinamento')\n",
    "    plt.ylabel('Desempenho')\n",
    "    plt.grid()\n",
    "    \n",
    "    # Calculamos os valores da curva de aprendizado, acrescentando os dados de 10 em 10 %\n",
    "    sizes = [0.1, 0.2, 0.3, 0.4, 0.5, 0.6, 0.7, 0.8, 0.9, 1]\n",
    "    points, score_in, score_out = learning_curve(estimator, X, y, train_sizes=sizes)\n",
    "    \n",
    "    # Tiramos a média e o desvio padrão de cada sequência de testes. \n",
    "    # Por padrão é feita validação cruzada em 3 conjuntos de dados.\n",
    "    mean_in = np.mean(score_in, axis=1)\n",
    "    std_in = np.std(score_in, axis=1)\n",
    "    mean_out = np.mean(score_out, axis=1)\n",
    "    std_out = np.std(score_out, axis=1)\n",
    "    \n",
    "    # O desempenho de treinamento fica em vermelho e o de validação em verde\n",
    "    plt.plot(points, mean_in, 'o-', color='red', label='Treinamento')\n",
    "    plt.plot(points, mean_out, 'o-', color='green', label='Teste')\n",
    "    \n",
    "    # Os desvios ficam ao redor das linhas para indicar a variação no aprendizado\n",
    "    plt.fill_between(points, mean_in - std_in,\n",
    "                     mean_in + std_in, color='red', alpha=0.1)\n",
    "    plt.fill_between(points, mean_out - std_out,\n",
    "                     mean_out + std_out, color='green', alpha=0.1)\n",
    "    \n",
    "    plt.legend()\n",
    "    return plt"
   ]
  },
  {
   "cell_type": "code",
   "execution_count": 4,
   "metadata": {
    "scrolled": true
   },
   "outputs": [
    {
     "data": {
      "text/plain": [
       "(891, 12)"
      ]
     },
     "execution_count": 4,
     "metadata": {},
     "output_type": "execute_result"
    }
   ],
   "source": [
    "# Ler o CSV com os dados, tirar uma cópia de segurança - para que possamos trabalhar os dados sem medo :)\n",
    "# e ver o tamanho do dataset (linhas, colunas)\n",
    "\n",
    "all_data = pd.read_csv('titanic.csv')\n",
    "backup = all_data.copy()\n",
    "all_data.shape"
   ]
  },
  {
   "cell_type": "code",
   "execution_count": 5,
   "metadata": {},
   "outputs": [
    {
     "name": "stdout",
     "output_type": "stream",
     "text": [
      "<class 'pandas.core.frame.DataFrame'>\n",
      "RangeIndex: 891 entries, 0 to 890\n",
      "Data columns (total 12 columns):\n",
      "PassengerId    891 non-null int64\n",
      "Survived       891 non-null int64\n",
      "Pclass         891 non-null int64\n",
      "Name           891 non-null object\n",
      "Sex            891 non-null object\n",
      "Age            714 non-null float64\n",
      "SibSp          891 non-null int64\n",
      "Parch          891 non-null int64\n",
      "Ticket         891 non-null object\n",
      "Fare           891 non-null float64\n",
      "Cabin          204 non-null object\n",
      "Embarked       889 non-null object\n",
      "dtypes: float64(2), int64(5), object(5)\n",
      "memory usage: 83.6+ KB\n"
     ]
    }
   ],
   "source": [
    "# Informações gerais sobre os dados lidos.\n",
    "# Temos a descrição das quantidades de entradas e tipos de dados de cada coluna\n",
    "\n",
    "all_data.info()"
   ]
  },
  {
   "cell_type": "code",
   "execution_count": 6,
   "metadata": {},
   "outputs": [
    {
     "data": {
      "text/html": [
       "<div>\n",
       "<style scoped>\n",
       "    .dataframe tbody tr th:only-of-type {\n",
       "        vertical-align: middle;\n",
       "    }\n",
       "\n",
       "    .dataframe tbody tr th {\n",
       "        vertical-align: top;\n",
       "    }\n",
       "\n",
       "    .dataframe thead th {\n",
       "        text-align: right;\n",
       "    }\n",
       "</style>\n",
       "<table border=\"1\" class=\"dataframe\">\n",
       "  <thead>\n",
       "    <tr style=\"text-align: right;\">\n",
       "      <th></th>\n",
       "      <th>PassengerId</th>\n",
       "      <th>Survived</th>\n",
       "      <th>Pclass</th>\n",
       "      <th>Age</th>\n",
       "      <th>SibSp</th>\n",
       "      <th>Parch</th>\n",
       "      <th>Fare</th>\n",
       "    </tr>\n",
       "  </thead>\n",
       "  <tbody>\n",
       "    <tr>\n",
       "      <th>count</th>\n",
       "      <td>891.000000</td>\n",
       "      <td>891.000000</td>\n",
       "      <td>891.000000</td>\n",
       "      <td>714.000000</td>\n",
       "      <td>891.000000</td>\n",
       "      <td>891.000000</td>\n",
       "      <td>891.000000</td>\n",
       "    </tr>\n",
       "    <tr>\n",
       "      <th>mean</th>\n",
       "      <td>446.000000</td>\n",
       "      <td>0.383838</td>\n",
       "      <td>2.308642</td>\n",
       "      <td>29.699118</td>\n",
       "      <td>0.523008</td>\n",
       "      <td>0.381594</td>\n",
       "      <td>32.204208</td>\n",
       "    </tr>\n",
       "    <tr>\n",
       "      <th>std</th>\n",
       "      <td>257.353842</td>\n",
       "      <td>0.486592</td>\n",
       "      <td>0.836071</td>\n",
       "      <td>14.526497</td>\n",
       "      <td>1.102743</td>\n",
       "      <td>0.806057</td>\n",
       "      <td>49.693429</td>\n",
       "    </tr>\n",
       "    <tr>\n",
       "      <th>min</th>\n",
       "      <td>1.000000</td>\n",
       "      <td>0.000000</td>\n",
       "      <td>1.000000</td>\n",
       "      <td>0.420000</td>\n",
       "      <td>0.000000</td>\n",
       "      <td>0.000000</td>\n",
       "      <td>0.000000</td>\n",
       "    </tr>\n",
       "    <tr>\n",
       "      <th>25%</th>\n",
       "      <td>223.500000</td>\n",
       "      <td>0.000000</td>\n",
       "      <td>2.000000</td>\n",
       "      <td>20.125000</td>\n",
       "      <td>0.000000</td>\n",
       "      <td>0.000000</td>\n",
       "      <td>7.910400</td>\n",
       "    </tr>\n",
       "    <tr>\n",
       "      <th>50%</th>\n",
       "      <td>446.000000</td>\n",
       "      <td>0.000000</td>\n",
       "      <td>3.000000</td>\n",
       "      <td>28.000000</td>\n",
       "      <td>0.000000</td>\n",
       "      <td>0.000000</td>\n",
       "      <td>14.454200</td>\n",
       "    </tr>\n",
       "    <tr>\n",
       "      <th>75%</th>\n",
       "      <td>668.500000</td>\n",
       "      <td>1.000000</td>\n",
       "      <td>3.000000</td>\n",
       "      <td>38.000000</td>\n",
       "      <td>1.000000</td>\n",
       "      <td>0.000000</td>\n",
       "      <td>31.000000</td>\n",
       "    </tr>\n",
       "    <tr>\n",
       "      <th>max</th>\n",
       "      <td>891.000000</td>\n",
       "      <td>1.000000</td>\n",
       "      <td>3.000000</td>\n",
       "      <td>80.000000</td>\n",
       "      <td>8.000000</td>\n",
       "      <td>6.000000</td>\n",
       "      <td>512.329200</td>\n",
       "    </tr>\n",
       "  </tbody>\n",
       "</table>\n",
       "</div>"
      ],
      "text/plain": [
       "       PassengerId    Survived      Pclass         Age       SibSp  \\\n",
       "count   891.000000  891.000000  891.000000  714.000000  891.000000   \n",
       "mean    446.000000    0.383838    2.308642   29.699118    0.523008   \n",
       "std     257.353842    0.486592    0.836071   14.526497    1.102743   \n",
       "min       1.000000    0.000000    1.000000    0.420000    0.000000   \n",
       "25%     223.500000    0.000000    2.000000   20.125000    0.000000   \n",
       "50%     446.000000    0.000000    3.000000   28.000000    0.000000   \n",
       "75%     668.500000    1.000000    3.000000   38.000000    1.000000   \n",
       "max     891.000000    1.000000    3.000000   80.000000    8.000000   \n",
       "\n",
       "            Parch        Fare  \n",
       "count  891.000000  891.000000  \n",
       "mean     0.381594   32.204208  \n",
       "std      0.806057   49.693429  \n",
       "min      0.000000    0.000000  \n",
       "25%      0.000000    7.910400  \n",
       "50%      0.000000   14.454200  \n",
       "75%      0.000000   31.000000  \n",
       "max      6.000000  512.329200  "
      ]
     },
     "execution_count": 6,
     "metadata": {},
     "output_type": "execute_result"
    }
   ],
   "source": [
    "# Descrição das colunas numéricas, com as medidas básicas de estatística:\n",
    "# - médias\n",
    "# - desvios padrão\n",
    "# - valores mínimos e máximos\n",
    "# - distribuição dos quartis\n",
    "\n",
    "all_data.describe()"
   ]
  },
  {
   "cell_type": "code",
   "execution_count": 7,
   "metadata": {},
   "outputs": [
    {
     "data": {
      "text/html": [
       "<div>\n",
       "<style scoped>\n",
       "    .dataframe tbody tr th:only-of-type {\n",
       "        vertical-align: middle;\n",
       "    }\n",
       "\n",
       "    .dataframe tbody tr th {\n",
       "        vertical-align: top;\n",
       "    }\n",
       "\n",
       "    .dataframe thead th {\n",
       "        text-align: right;\n",
       "    }\n",
       "</style>\n",
       "<table border=\"1\" class=\"dataframe\">\n",
       "  <thead>\n",
       "    <tr style=\"text-align: right;\">\n",
       "      <th></th>\n",
       "      <th>PassengerId</th>\n",
       "      <th>Survived</th>\n",
       "      <th>Pclass</th>\n",
       "      <th>Name</th>\n",
       "      <th>Sex</th>\n",
       "      <th>Age</th>\n",
       "      <th>SibSp</th>\n",
       "      <th>Parch</th>\n",
       "      <th>Ticket</th>\n",
       "      <th>Fare</th>\n",
       "      <th>Cabin</th>\n",
       "      <th>Embarked</th>\n",
       "    </tr>\n",
       "  </thead>\n",
       "  <tbody>\n",
       "    <tr>\n",
       "      <th>28</th>\n",
       "      <td>29</td>\n",
       "      <td>1</td>\n",
       "      <td>3</td>\n",
       "      <td>O'Dwyer, Miss. Ellen \"Nellie\"</td>\n",
       "      <td>female</td>\n",
       "      <td>NaN</td>\n",
       "      <td>0</td>\n",
       "      <td>0</td>\n",
       "      <td>330959</td>\n",
       "      <td>7.8792</td>\n",
       "      <td>NaN</td>\n",
       "      <td>Q</td>\n",
       "    </tr>\n",
       "    <tr>\n",
       "      <th>2</th>\n",
       "      <td>3</td>\n",
       "      <td>1</td>\n",
       "      <td>3</td>\n",
       "      <td>Heikkinen, Miss. Laina</td>\n",
       "      <td>female</td>\n",
       "      <td>26.0</td>\n",
       "      <td>0</td>\n",
       "      <td>0</td>\n",
       "      <td>STON/O2. 3101282</td>\n",
       "      <td>7.9250</td>\n",
       "      <td>NaN</td>\n",
       "      <td>S</td>\n",
       "    </tr>\n",
       "    <tr>\n",
       "      <th>194</th>\n",
       "      <td>195</td>\n",
       "      <td>1</td>\n",
       "      <td>1</td>\n",
       "      <td>Brown, Mrs. James Joseph (Margaret Tobin)</td>\n",
       "      <td>female</td>\n",
       "      <td>44.0</td>\n",
       "      <td>0</td>\n",
       "      <td>0</td>\n",
       "      <td>PC 17610</td>\n",
       "      <td>27.7208</td>\n",
       "      <td>B4</td>\n",
       "      <td>C</td>\n",
       "    </tr>\n",
       "    <tr>\n",
       "      <th>614</th>\n",
       "      <td>615</td>\n",
       "      <td>0</td>\n",
       "      <td>3</td>\n",
       "      <td>Brocklebank, Mr. William Alfred</td>\n",
       "      <td>male</td>\n",
       "      <td>35.0</td>\n",
       "      <td>0</td>\n",
       "      <td>0</td>\n",
       "      <td>364512</td>\n",
       "      <td>8.0500</td>\n",
       "      <td>NaN</td>\n",
       "      <td>S</td>\n",
       "    </tr>\n",
       "    <tr>\n",
       "      <th>379</th>\n",
       "      <td>380</td>\n",
       "      <td>0</td>\n",
       "      <td>3</td>\n",
       "      <td>Gustafsson, Mr. Karl Gideon</td>\n",
       "      <td>male</td>\n",
       "      <td>19.0</td>\n",
       "      <td>0</td>\n",
       "      <td>0</td>\n",
       "      <td>347069</td>\n",
       "      <td>7.7750</td>\n",
       "      <td>NaN</td>\n",
       "      <td>S</td>\n",
       "    </tr>\n",
       "  </tbody>\n",
       "</table>\n",
       "</div>"
      ],
      "text/plain": [
       "     PassengerId  Survived  Pclass                                       Name  \\\n",
       "28            29         1       3              O'Dwyer, Miss. Ellen \"Nellie\"   \n",
       "2              3         1       3                     Heikkinen, Miss. Laina   \n",
       "194          195         1       1  Brown, Mrs. James Joseph (Margaret Tobin)   \n",
       "614          615         0       3            Brocklebank, Mr. William Alfred   \n",
       "379          380         0       3                Gustafsson, Mr. Karl Gideon   \n",
       "\n",
       "        Sex   Age  SibSp  Parch            Ticket     Fare Cabin Embarked  \n",
       "28   female   NaN      0      0            330959   7.8792   NaN        Q  \n",
       "2    female  26.0      0      0  STON/O2. 3101282   7.9250   NaN        S  \n",
       "194  female  44.0      0      0          PC 17610  27.7208    B4        C  \n",
       "614    male  35.0      0      0            364512   8.0500   NaN        S  \n",
       "379    male  19.0      0      0            347069   7.7750   NaN        S  "
      ]
     },
     "execution_count": 7,
     "metadata": {},
     "output_type": "execute_result"
    }
   ],
   "source": [
    "# O método sample permite dar uma 'espiada' em algumas linhas do dataset\n",
    "\n",
    "all_data.sample(5)"
   ]
  },
  {
   "cell_type": "code",
   "execution_count": 8,
   "metadata": {},
   "outputs": [
    {
     "data": {
      "text/html": [
       "<div>\n",
       "<style scoped>\n",
       "    .dataframe tbody tr th:only-of-type {\n",
       "        vertical-align: middle;\n",
       "    }\n",
       "\n",
       "    .dataframe tbody tr th {\n",
       "        vertical-align: top;\n",
       "    }\n",
       "\n",
       "    .dataframe thead th {\n",
       "        text-align: right;\n",
       "    }\n",
       "</style>\n",
       "<table border=\"1\" class=\"dataframe\">\n",
       "  <thead>\n",
       "    <tr style=\"text-align: right;\">\n",
       "      <th></th>\n",
       "      <th>Survived</th>\n",
       "      <th>Pclass</th>\n",
       "      <th>Sex</th>\n",
       "      <th>Age</th>\n",
       "      <th>SibSp</th>\n",
       "      <th>Parch</th>\n",
       "      <th>Fare</th>\n",
       "      <th>Cabin</th>\n",
       "      <th>Embarked</th>\n",
       "    </tr>\n",
       "  </thead>\n",
       "  <tbody>\n",
       "    <tr>\n",
       "      <th>141</th>\n",
       "      <td>1</td>\n",
       "      <td>3</td>\n",
       "      <td>female</td>\n",
       "      <td>22.0</td>\n",
       "      <td>0</td>\n",
       "      <td>0</td>\n",
       "      <td>7.750</td>\n",
       "      <td>NaN</td>\n",
       "      <td>S</td>\n",
       "    </tr>\n",
       "    <tr>\n",
       "      <th>637</th>\n",
       "      <td>0</td>\n",
       "      <td>2</td>\n",
       "      <td>male</td>\n",
       "      <td>31.0</td>\n",
       "      <td>1</td>\n",
       "      <td>1</td>\n",
       "      <td>26.250</td>\n",
       "      <td>NaN</td>\n",
       "      <td>S</td>\n",
       "    </tr>\n",
       "    <tr>\n",
       "      <th>605</th>\n",
       "      <td>0</td>\n",
       "      <td>3</td>\n",
       "      <td>male</td>\n",
       "      <td>36.0</td>\n",
       "      <td>1</td>\n",
       "      <td>0</td>\n",
       "      <td>15.550</td>\n",
       "      <td>NaN</td>\n",
       "      <td>S</td>\n",
       "    </tr>\n",
       "    <tr>\n",
       "      <th>298</th>\n",
       "      <td>1</td>\n",
       "      <td>1</td>\n",
       "      <td>male</td>\n",
       "      <td>NaN</td>\n",
       "      <td>0</td>\n",
       "      <td>0</td>\n",
       "      <td>30.500</td>\n",
       "      <td>C106</td>\n",
       "      <td>S</td>\n",
       "    </tr>\n",
       "    <tr>\n",
       "      <th>79</th>\n",
       "      <td>1</td>\n",
       "      <td>3</td>\n",
       "      <td>female</td>\n",
       "      <td>30.0</td>\n",
       "      <td>0</td>\n",
       "      <td>0</td>\n",
       "      <td>12.475</td>\n",
       "      <td>NaN</td>\n",
       "      <td>S</td>\n",
       "    </tr>\n",
       "  </tbody>\n",
       "</table>\n",
       "</div>"
      ],
      "text/plain": [
       "     Survived  Pclass     Sex   Age  SibSp  Parch    Fare Cabin Embarked\n",
       "141         1       3  female  22.0      0      0   7.750   NaN        S\n",
       "637         0       2    male  31.0      1      1  26.250   NaN        S\n",
       "605         0       3    male  36.0      1      0  15.550   NaN        S\n",
       "298         1       1    male   NaN      0      0  30.500  C106        S\n",
       "79          1       3  female  30.0      0      0  12.475   NaN        S"
      ]
     },
     "execution_count": 8,
     "metadata": {},
     "output_type": "execute_result"
    }
   ],
   "source": [
    "# Como vimos na descrição, o ID do passageiro, o nome e o número do ticket não nos ajudarão em nada.\n",
    "# Não existe (ou não deveria existir) relação entre esses dados e o destino do passageiro\n",
    "\n",
    "all_data.drop(['PassengerId', 'Name', 'Ticket'], axis=1, inplace=True)\n",
    "all_data.sample(5)"
   ]
  },
  {
   "cell_type": "code",
   "execution_count": 9,
   "metadata": {},
   "outputs": [
    {
     "data": {
      "text/html": [
       "<div>\n",
       "<style scoped>\n",
       "    .dataframe tbody tr th:only-of-type {\n",
       "        vertical-align: middle;\n",
       "    }\n",
       "\n",
       "    .dataframe tbody tr th {\n",
       "        vertical-align: top;\n",
       "    }\n",
       "\n",
       "    .dataframe thead th {\n",
       "        text-align: right;\n",
       "    }\n",
       "</style>\n",
       "<table border=\"1\" class=\"dataframe\">\n",
       "  <thead>\n",
       "    <tr style=\"text-align: right;\">\n",
       "      <th></th>\n",
       "      <th>Survived</th>\n",
       "      <th>Pclass</th>\n",
       "      <th>Sex</th>\n",
       "      <th>Age</th>\n",
       "      <th>Fare</th>\n",
       "      <th>Cabin</th>\n",
       "      <th>Embarked</th>\n",
       "      <th>Family</th>\n",
       "    </tr>\n",
       "  </thead>\n",
       "  <tbody>\n",
       "    <tr>\n",
       "      <th>557</th>\n",
       "      <td>0</td>\n",
       "      <td>1</td>\n",
       "      <td>male</td>\n",
       "      <td>NaN</td>\n",
       "      <td>227.525</td>\n",
       "      <td>NaN</td>\n",
       "      <td>C</td>\n",
       "      <td>0</td>\n",
       "    </tr>\n",
       "    <tr>\n",
       "      <th>316</th>\n",
       "      <td>1</td>\n",
       "      <td>2</td>\n",
       "      <td>female</td>\n",
       "      <td>24.0</td>\n",
       "      <td>26.000</td>\n",
       "      <td>NaN</td>\n",
       "      <td>S</td>\n",
       "      <td>1</td>\n",
       "    </tr>\n",
       "    <tr>\n",
       "      <th>607</th>\n",
       "      <td>1</td>\n",
       "      <td>1</td>\n",
       "      <td>male</td>\n",
       "      <td>27.0</td>\n",
       "      <td>30.500</td>\n",
       "      <td>NaN</td>\n",
       "      <td>S</td>\n",
       "      <td>0</td>\n",
       "    </tr>\n",
       "    <tr>\n",
       "      <th>62</th>\n",
       "      <td>0</td>\n",
       "      <td>1</td>\n",
       "      <td>male</td>\n",
       "      <td>45.0</td>\n",
       "      <td>83.475</td>\n",
       "      <td>C83</td>\n",
       "      <td>S</td>\n",
       "      <td>1</td>\n",
       "    </tr>\n",
       "    <tr>\n",
       "      <th>212</th>\n",
       "      <td>0</td>\n",
       "      <td>3</td>\n",
       "      <td>male</td>\n",
       "      <td>22.0</td>\n",
       "      <td>7.250</td>\n",
       "      <td>NaN</td>\n",
       "      <td>S</td>\n",
       "      <td>0</td>\n",
       "    </tr>\n",
       "  </tbody>\n",
       "</table>\n",
       "</div>"
      ],
      "text/plain": [
       "     Survived  Pclass     Sex   Age     Fare Cabin Embarked  Family\n",
       "557         0       1    male   NaN  227.525   NaN        C       0\n",
       "316         1       2  female  24.0   26.000   NaN        S       1\n",
       "607         1       1    male  27.0   30.500   NaN        S       0\n",
       "62          0       1    male  45.0   83.475   C83        S       1\n",
       "212         0       3    male  22.0    7.250   NaN        S       0"
      ]
     },
     "execution_count": 9,
     "metadata": {},
     "output_type": "execute_result"
    }
   ],
   "source": [
    "# As colunas 'SibSp' e 'Parch' ('Siblings and Spouse' e 'Parents and Children', respectivamente) transmitem\n",
    "# a mesma informação: o número de familiares a bordo. Podemos então somar os valores em uma única coluna.\n",
    "\n",
    "all_data['Family'] = all_data['SibSp'] + all_data['Parch']\n",
    "all_data.drop(['SibSp', 'Parch'], axis=1, inplace=True)\n",
    "all_data.sample(5)"
   ]
  },
  {
   "cell_type": "code",
   "execution_count": 10,
   "metadata": {},
   "outputs": [
    {
     "data": {
      "text/plain": [
       "Survived      0\n",
       "Pclass        0\n",
       "Sex           0\n",
       "Age         177\n",
       "Fare          0\n",
       "Cabin       687\n",
       "Embarked      2\n",
       "Family        0\n",
       "dtype: int64"
      ]
     },
     "execution_count": 10,
     "metadata": {},
     "output_type": "execute_result"
    }
   ],
   "source": [
    "# Precisamos tratar os dados ausentes no dataset. Primeiro, vamos verificar quantas entradas estão faltando.\n",
    "\n",
    "all_data.isnull().sum()"
   ]
  },
  {
   "cell_type": "code",
   "execution_count": 11,
   "metadata": {},
   "outputs": [],
   "source": [
    "# Como a maioria das entradas não tem um valor para cabine e nós não sabemos por que,\n",
    "# (os passageiros não tinham cabines? os dados não estavam disponíveis?)\n",
    "# vamos remover essa coluna.\n",
    "\n",
    "all_data.drop('Cabin', axis=1, inplace=True)"
   ]
  },
  {
   "cell_type": "code",
   "execution_count": 12,
   "metadata": {},
   "outputs": [],
   "source": [
    "# Somente dois passageiros não possuem o local de embarque preenchido. Vamos eliminá-los do dataset. \n",
    "# O método fillna no Pandas preenche os valores ausentes com um padrão recebido como parâmetro.\n",
    "# O atributo loc no Pandas recebe um índice (Não é um método com parâmetros!) indicando linhas e colunas que queremos\n",
    "# manter\n",
    "\n",
    "all_data['Embarked'].fillna(\"NNN\", inplace=True)\n",
    "all_data = all_data.loc[all_data['Embarked'] != \"NNN\", :]"
   ]
  },
  {
   "cell_type": "code",
   "execution_count": 13,
   "metadata": {},
   "outputs": [
    {
     "data": {
      "text/html": [
       "<div>\n",
       "<style scoped>\n",
       "    .dataframe tbody tr th:only-of-type {\n",
       "        vertical-align: middle;\n",
       "    }\n",
       "\n",
       "    .dataframe tbody tr th {\n",
       "        vertical-align: top;\n",
       "    }\n",
       "\n",
       "    .dataframe thead th {\n",
       "        text-align: right;\n",
       "    }\n",
       "</style>\n",
       "<table border=\"1\" class=\"dataframe\">\n",
       "  <thead>\n",
       "    <tr style=\"text-align: right;\">\n",
       "      <th></th>\n",
       "      <th>Survived</th>\n",
       "      <th>Pclass</th>\n",
       "      <th>Sex</th>\n",
       "      <th>Age</th>\n",
       "      <th>Fare</th>\n",
       "      <th>Embarked</th>\n",
       "      <th>Family</th>\n",
       "      <th>Title</th>\n",
       "    </tr>\n",
       "  </thead>\n",
       "  <tbody>\n",
       "    <tr>\n",
       "      <th>436</th>\n",
       "      <td>0</td>\n",
       "      <td>3</td>\n",
       "      <td>female</td>\n",
       "      <td>21.0</td>\n",
       "      <td>34.3750</td>\n",
       "      <td>S</td>\n",
       "      <td>4</td>\n",
       "      <td>Miss</td>\n",
       "    </tr>\n",
       "    <tr>\n",
       "      <th>844</th>\n",
       "      <td>0</td>\n",
       "      <td>3</td>\n",
       "      <td>male</td>\n",
       "      <td>17.0</td>\n",
       "      <td>8.6625</td>\n",
       "      <td>S</td>\n",
       "      <td>0</td>\n",
       "      <td>Mr</td>\n",
       "    </tr>\n",
       "    <tr>\n",
       "      <th>357</th>\n",
       "      <td>0</td>\n",
       "      <td>2</td>\n",
       "      <td>female</td>\n",
       "      <td>38.0</td>\n",
       "      <td>13.0000</td>\n",
       "      <td>S</td>\n",
       "      <td>0</td>\n",
       "      <td>Miss</td>\n",
       "    </tr>\n",
       "    <tr>\n",
       "      <th>577</th>\n",
       "      <td>1</td>\n",
       "      <td>1</td>\n",
       "      <td>female</td>\n",
       "      <td>39.0</td>\n",
       "      <td>55.9000</td>\n",
       "      <td>S</td>\n",
       "      <td>1</td>\n",
       "      <td>Mrs</td>\n",
       "    </tr>\n",
       "    <tr>\n",
       "      <th>393</th>\n",
       "      <td>1</td>\n",
       "      <td>1</td>\n",
       "      <td>female</td>\n",
       "      <td>23.0</td>\n",
       "      <td>113.2750</td>\n",
       "      <td>C</td>\n",
       "      <td>1</td>\n",
       "      <td>Miss</td>\n",
       "    </tr>\n",
       "  </tbody>\n",
       "</table>\n",
       "</div>"
      ],
      "text/plain": [
       "     Survived  Pclass     Sex   Age      Fare Embarked  Family Title\n",
       "436         0       3  female  21.0   34.3750        S       4  Miss\n",
       "844         0       3    male  17.0    8.6625        S       0    Mr\n",
       "357         0       2  female  38.0   13.0000        S       0  Miss\n",
       "577         1       1  female  39.0   55.9000        S       1   Mrs\n",
       "393         1       1  female  23.0  113.2750        C       1  Miss"
      ]
     },
     "execution_count": 13,
     "metadata": {},
     "output_type": "execute_result"
    }
   ],
   "source": [
    "# Já a idade é algo mais elaborado de se tratar.\n",
    "# Todos os nomes no dataset são acompanhados de um título. Vamos criar uma nova coluna, 'title', com os títulos\n",
    "# dos passageiros. A ideia é verificar se a média de idade varia com o título, e usar essa média para preencher\n",
    "# os valores ausentes.\n",
    "\n",
    "all_data['Title'] = ''\n",
    "\n",
    "for i in all_data:\n",
    "    all_data['Title'] = backup['Name'].str.extract('([A-Za-z]+)\\.', expand=False)\n",
    "    \n",
    "all_data.sample(5)"
   ]
  },
  {
   "cell_type": "code",
   "execution_count": 14,
   "metadata": {},
   "outputs": [
    {
     "data": {
      "text/plain": [
       "array(['Mr', 'Mrs', 'Miss', 'Master', 'Don', 'Rev', 'Dr', 'Mme', 'Ms',\n",
       "       'Major', 'Lady', 'Sir', 'Mlle', 'Col', 'Capt', 'Countess',\n",
       "       'Jonkheer'], dtype=object)"
      ]
     },
     "execution_count": 14,
     "metadata": {},
     "output_type": "execute_result"
    }
   ],
   "source": [
    "# Os títulos encontrados são:\n",
    "\n",
    "all_data['Title'].unique()"
   ]
  },
  {
   "cell_type": "code",
   "execution_count": 15,
   "metadata": {},
   "outputs": [
    {
     "data": {
      "text/plain": [
       "<matplotlib.axes._subplots.AxesSubplot at 0x278c03f3128>"
      ]
     },
     "execution_count": 15,
     "metadata": {},
     "output_type": "execute_result"
    },
    {
     "data": {
      "image/png": "[encoded data removed]",
      "text/plain": [
       "<Figure size 1080x360 with 1 Axes>"
      ]
     },
     "metadata": {
      "needs_background": "light"
     },
     "output_type": "display_data"
    }
   ],
   "source": [
    "# Olhando um gráfico de idade x título, podemos ver que as médias são diferentes e possuem pequenas\n",
    "# variações, no geral. Portanto é um bom método para preencher os dados ausentes.\n",
    "\n",
    "plt.figure(figsize=(15, 5))\n",
    "sns.barplot(x=all_data['Title'], y=all_data['Age'])"
   ]
  },
  {
   "cell_type": "code",
   "execution_count": 16,
   "metadata": {},
   "outputs": [
    {
     "data": {
      "text/plain": [
       "{'Capt': 70.0,\n",
       " 'Col': 58.0,\n",
       " 'Countess': 33.0,\n",
       " 'Don': 40.0,\n",
       " 'Dr': 42.0,\n",
       " 'Jonkheer': 38.0,\n",
       " 'Lady': 48.0,\n",
       " 'Major': 48.5,\n",
       " 'Master': 4.574166666666667,\n",
       " 'Miss': 21.662068965517243,\n",
       " 'Mlle': 24.0,\n",
       " 'Mme': 24.0,\n",
       " 'Mr': 32.368090452261306,\n",
       " 'Mrs': 35.654205607476634,\n",
       " 'Ms': 28.0,\n",
       " 'Rev': 43.166666666666664,\n",
       " 'Sir': 49.0}"
      ]
     },
     "execution_count": 16,
     "metadata": {},
     "output_type": "execute_result"
    }
   ],
   "source": [
    "# Criamos um dicionário usando os títulos como chave e as médias de idade como valor\n",
    "\n",
    "age_means = all_data.groupby('Title')['Age'].mean().to_dict()\n",
    "age_means"
   ]
  },
  {
   "cell_type": "code",
   "execution_count": 17,
   "metadata": {},
   "outputs": [],
   "source": [
    "# Encontramos, usando loc, as linhas que não tem idade definida e preenchemos essas linhas\n",
    "# com os valores médios.\n",
    "\n",
    "no_age = all_data.loc[np.isnan(all_data['Age'])].index\n",
    "all_data.loc[no_age, 'Age'] = all_data['Title'].loc[no_age].map(age_means)"
   ]
  },
  {
   "cell_type": "code",
   "execution_count": 18,
   "metadata": {},
   "outputs": [
    {
     "data": {
      "text/plain": [
       "Survived    0\n",
       "Pclass      0\n",
       "Sex         0\n",
       "Age         0\n",
       "Fare        0\n",
       "Embarked    0\n",
       "Family      0\n",
       "Title       0\n",
       "dtype: int64"
      ]
     },
     "execution_count": 18,
     "metadata": {},
     "output_type": "execute_result"
    }
   ],
   "source": [
    "# Agora os dados estão completos.\n",
    "\n",
    "all_data.isnull().sum()"
   ]
  },
  {
   "cell_type": "code",
   "execution_count": 19,
   "metadata": {},
   "outputs": [
    {
     "data": {
      "text/plain": [
       "<matplotlib.axes._subplots.AxesSubplot at 0x278c178def0>"
      ]
     },
     "execution_count": 19,
     "metadata": {},
     "output_type": "execute_result"
    },
    {
     "data": {
      "image/png": "[encoded data removed]",
      "text/plain": [
       "<Figure size 432x288 with 1 Axes>"
      ]
     },
     "metadata": {
      "needs_background": "light"
     },
     "output_type": "display_data"
    }
   ],
   "source": [
    "# Nosso palpite é que a classe do passageiro influencia na sua sobrevivência,\n",
    "# e que viveu mais quem foi de primeira classe. O gráfico mostra exatamente isso.\n",
    "\n",
    "sns.barplot(x=all_data['Pclass'], y=all_data['Survived'])"
   ]
  },
  {
   "cell_type": "code",
   "execution_count": 20,
   "metadata": {},
   "outputs": [],
   "source": [
    "# Podemos agora descartar a coluna de títulos ou não. Para tomar essa decisão, vamos agrupar em 'Outros'\n",
    "# os títulos que não têm muita gente, e verificar a média de sobrevivência.\n",
    "\n",
    "titles_dict = {'Capt': 'Other',\n",
    "               'Major': 'Other',\n",
    "               'Jonkheer': 'Other',\n",
    "               'Don': 'Other',\n",
    "               'Sir': 'Other',\n",
    "               'Dr': 'Other',\n",
    "               'Rev': 'Other',\n",
    "               'Countess': 'Other',\n",
    "               'Dona': 'Other',\n",
    "               'Mme': 'Mrs',\n",
    "               'Mlle': 'Miss',\n",
    "               'Ms': 'Miss',\n",
    "               'Mr': 'Mr',\n",
    "               'Mrs': 'Mrs',\n",
    "               'Miss': 'Miss',\n",
    "               'Master': 'Master',\n",
    "               'Lady': 'Other'}\n",
    "\n",
    "all_data['Title'] = all_data['Title'].map(titles_dict)"
   ]
  },
  {
   "cell_type": "code",
   "execution_count": 21,
   "metadata": {},
   "outputs": [
    {
     "data": {
      "text/plain": [
       "<matplotlib.axes._subplots.AxesSubplot at 0x278c179af98>"
      ]
     },
     "execution_count": 21,
     "metadata": {},
     "output_type": "execute_result"
    },
    {
     "data": {
      "image/png": "[encoded data removed]",
      "text/plain": [
       "<Figure size 432x288 with 1 Axes>"
      ]
     },
     "metadata": {
      "needs_background": "light"
     },
     "output_type": "display_data"
    }
   ],
   "source": [
    "# Como mostra o gráfico, o título pode influenciar no destino do passageiro, e será mantido como\n",
    "# uma coluna relevante\n",
    "\n",
    "sns.barplot(x=all_data['Title'], y=all_data['Survived'])"
   ]
  },
  {
   "cell_type": "code",
   "execution_count": 22,
   "metadata": {},
   "outputs": [
    {
     "data": {
      "text/plain": [
       "<matplotlib.axes._subplots.AxesSubplot at 0x278c38b6ac8>"
      ]
     },
     "execution_count": 22,
     "metadata": {},
     "output_type": "execute_result"
    },
    {
     "data": {
      "image/png": "[encoded data removed]",
      "text/plain": [
       "<Figure size 432x288 with 1 Axes>"
      ]
     },
     "metadata": {
      "needs_background": "light"
     },
     "output_type": "display_data"
    }
   ],
   "source": [
    "# Como a taxa de sobrevivência de títulos femininos foi maior, manteremos o sexo como determinante para o problema também.\n",
    "\n",
    "sns.barplot(x=all_data['Sex'], y=all_data['Survived'])"
   ]
  },
  {
   "cell_type": "code",
   "execution_count": 23,
   "metadata": {},
   "outputs": [
    {
     "data": {
      "text/plain": [
       "<matplotlib.axes._subplots.AxesSubplot at 0x278c3978eb8>"
      ]
     },
     "execution_count": 23,
     "metadata": {},
     "output_type": "execute_result"
    },
    {
     "data": {
      "image/png": "[encoded data removed]",
      "text/plain": [
       "<Figure size 2160x720 with 1 Axes>"
      ]
     },
     "metadata": {
      "needs_background": "light"
     },
     "output_type": "display_data"
    }
   ],
   "source": [
    "# Para avaliar a influência da idade, podemos verificar através do gráfico a existência de três grupos:\n",
    "# Crianças e idosos, que tendem a sobreviver mais, e adultos, que tendem a sobreviver menos. Isso faz sentido\n",
    "# levando em consideração a realidade do comportamento das pessoas em desastres.\n",
    "\n",
    "plt.figure(figsize=(30, 10))\n",
    "sns.barplot(x=all_data['Age'], y=all_data['Survived'])"
   ]
  },
  {
   "cell_type": "code",
   "execution_count": 24,
   "metadata": {},
   "outputs": [
    {
     "data": {
      "text/html": [
       "<div>\n",
       "<style scoped>\n",
       "    .dataframe tbody tr th:only-of-type {\n",
       "        vertical-align: middle;\n",
       "    }\n",
       "\n",
       "    .dataframe tbody tr th {\n",
       "        vertical-align: top;\n",
       "    }\n",
       "\n",
       "    .dataframe thead th {\n",
       "        text-align: right;\n",
       "    }\n",
       "</style>\n",
       "<table border=\"1\" class=\"dataframe\">\n",
       "  <thead>\n",
       "    <tr style=\"text-align: right;\">\n",
       "      <th></th>\n",
       "      <th>Survived</th>\n",
       "      <th>Pclass</th>\n",
       "      <th>Sex</th>\n",
       "      <th>Age</th>\n",
       "      <th>Fare</th>\n",
       "      <th>Embarked</th>\n",
       "      <th>Family</th>\n",
       "      <th>Title</th>\n",
       "    </tr>\n",
       "  </thead>\n",
       "  <tbody>\n",
       "    <tr>\n",
       "      <th>748</th>\n",
       "      <td>0</td>\n",
       "      <td>1</td>\n",
       "      <td>male</td>\n",
       "      <td>A</td>\n",
       "      <td>53.1000</td>\n",
       "      <td>S</td>\n",
       "      <td>1</td>\n",
       "      <td>Mr</td>\n",
       "    </tr>\n",
       "    <tr>\n",
       "      <th>334</th>\n",
       "      <td>1</td>\n",
       "      <td>1</td>\n",
       "      <td>female</td>\n",
       "      <td>A</td>\n",
       "      <td>133.6500</td>\n",
       "      <td>S</td>\n",
       "      <td>1</td>\n",
       "      <td>Mrs</td>\n",
       "    </tr>\n",
       "    <tr>\n",
       "      <th>171</th>\n",
       "      <td>0</td>\n",
       "      <td>3</td>\n",
       "      <td>male</td>\n",
       "      <td>C</td>\n",
       "      <td>29.1250</td>\n",
       "      <td>Q</td>\n",
       "      <td>5</td>\n",
       "      <td>Master</td>\n",
       "    </tr>\n",
       "    <tr>\n",
       "      <th>628</th>\n",
       "      <td>0</td>\n",
       "      <td>3</td>\n",
       "      <td>male</td>\n",
       "      <td>A</td>\n",
       "      <td>7.8958</td>\n",
       "      <td>S</td>\n",
       "      <td>0</td>\n",
       "      <td>Mr</td>\n",
       "    </tr>\n",
       "    <tr>\n",
       "      <th>721</th>\n",
       "      <td>0</td>\n",
       "      <td>3</td>\n",
       "      <td>male</td>\n",
       "      <td>A</td>\n",
       "      <td>7.0542</td>\n",
       "      <td>S</td>\n",
       "      <td>1</td>\n",
       "      <td>Mr</td>\n",
       "    </tr>\n",
       "  </tbody>\n",
       "</table>\n",
       "</div>"
      ],
      "text/plain": [
       "     Survived  Pclass     Sex Age      Fare Embarked  Family   Title\n",
       "748         0       1    male   A   53.1000        S       1      Mr\n",
       "334         1       1  female   A  133.6500        S       1     Mrs\n",
       "171         0       3    male   C   29.1250        Q       5  Master\n",
       "628         0       3    male   A    7.8958        S       0      Mr\n",
       "721         0       3    male   A    7.0542        S       1      Mr"
      ]
     },
     "execution_count": 24,
     "metadata": {},
     "output_type": "execute_result"
    }
   ],
   "source": [
    "# Portanto, podemos transformar a idade em categorias ('Criança, adulto ou idoso') de acodro com faixas de idade.\n",
    "# Assim não perdemos a generalização e reduzimos possíveis erros no preenchimento dos valores ausentes.\n",
    "\n",
    "all_data['Age'] = pd.cut(all_data['Age'], bins=[0, 14, 50, 200], labels=['C', 'A', 'I'])\n",
    "all_data.sample(5)"
   ]
  },
  {
   "cell_type": "code",
   "execution_count": 25,
   "metadata": {},
   "outputs": [
    {
     "data": {
      "text/plain": [
       "<matplotlib.axes._subplots.AxesSubplot at 0x278c4470ac8>"
      ]
     },
     "execution_count": 25,
     "metadata": {},
     "output_type": "execute_result"
    },
    {
     "data": {
      "image/png": "[encoded data removed]",
      "text/plain": [
       "<Figure size 432x288 with 1 Axes>"
      ]
     },
     "metadata": {
      "needs_background": "light"
     },
     "output_type": "display_data"
    }
   ],
   "source": [
    "# Relacionando as taxas e as classes, comparando sobreviventes e não sobreviventes, temos um fato curioso:\n",
    "# Para as classes mais baixas, pagar uma taxa maior ou menor não fez diferença para as pessoas sobreviverem.\n",
    "# Entretanto, na classe 1, a diferença é observável.\n",
    "# Isso indica que há colunas que só são relevantes se forem relacionadas com outras colunas.\n",
    "\n",
    "sns.barplot(all_data['Survived'], all_data['Fare'], all_data['Pclass'])"
   ]
  },
  {
   "cell_type": "code",
   "execution_count": 26,
   "metadata": {},
   "outputs": [],
   "source": [
    "# Embora a classe apareça como uma variável numérica, ela é categórica.\n",
    "# Podemos usar o Pandas para transformá-la em uma categoria.\n",
    "\n",
    "all_data['Pclass'] = pd.Categorical(all_data['Pclass'])"
   ]
  },
  {
   "cell_type": "code",
   "execution_count": 27,
   "metadata": {},
   "outputs": [],
   "source": [
    "# Como a taxa é uma variável numérica com uma distribuição enviesada pelos valores zero, usamos a transformação\n",
    "# de Box Cox para procurar aproximá-la de uma distribuição normal. Esse procedimento entrega dados normalizados\n",
    "# aos modelos lineares, que tendem a responder melhor com a entrada assim.\n",
    "\n",
    "\n",
    "from scipy.stats import boxcox\n",
    "all_data['Fare'] = boxcox(all_data['Fare'] + 1)[0]"
   ]
  },
  {
   "cell_type": "code",
   "execution_count": 28,
   "metadata": {},
   "outputs": [
    {
     "data": {
      "text/plain": [
       "<matplotlib.axes._subplots.AxesSubplot at 0x278c3df87f0>"
      ]
     },
     "execution_count": 28,
     "metadata": {},
     "output_type": "execute_result"
    },
    {
     "data": {
      "image/png": "[encoded data removed]",
      "text/plain": [
       "<Figure size 432x288 with 1 Axes>"
      ]
     },
     "metadata": {
      "needs_background": "light"
     },
     "output_type": "display_data"
    }
   ],
   "source": [
    "# O gráfico mostra a nova distribuição da coluna 'Fare'.\n",
    "\n",
    "sns.distplot(all_data['Fare'])"
   ]
  },
  {
   "cell_type": "code",
   "execution_count": 29,
   "metadata": {},
   "outputs": [],
   "source": [
    "# Agora que as features foram selecionadas, podemos começar a trabalhar no modelo.\n",
    "# O primeiro passo é separar X (os vetores de entrada) de y (os valores de saída)\n",
    "\n",
    "X = all_data.loc[: , all_data.columns != 'Survived']\n",
    "y = all_data['Survived']"
   ]
  },
  {
   "cell_type": "code",
   "execution_count": 30,
   "metadata": {},
   "outputs": [
    {
     "data": {
      "text/plain": [
       "(889, 18)"
      ]
     },
     "execution_count": 30,
     "metadata": {},
     "output_type": "execute_result"
    }
   ],
   "source": [
    "# Para as variáveis categóricas serem aplicáveis aos modelos matemáticos, vamos criar 'dummy variables'.\n",
    "# Uma categoria com 'n' possíveis valores se torna um conjunto de 'n-1' variáveis binárias, indicando\n",
    "# o pertencimento do item àquela categoria ou não.\n",
    "\n",
    "X = pd.get_dummies(X)\n",
    "X.shape"
   ]
  },
  {
   "cell_type": "code",
   "execution_count": 31,
   "metadata": {},
   "outputs": [],
   "source": [
    "# O MinMaxScaler transformará os valores da entrada, fazendo com que todos variem dentro do mesmo intervalo.\n",
    "# O intervalo não foi especificado, então será aplicado o valor padrão - de 0 a 1. A conversão é proporcional.\n",
    "\n",
    "from sklearn.preprocessing import MinMaxScaler\n",
    "X = MinMaxScaler().fit_transform(X)"
   ]
  },
  {
   "cell_type": "code",
   "execution_count": 32,
   "metadata": {},
   "outputs": [],
   "source": [
    "# Vamos gerar polinômios de grau 2 a partir dos dados de entrada, para passar ao modelo combinações desses dados.\n",
    "# Essas combinações podem eventualmente evidenciar relações entre as features que tenham impacto na saída.\n",
    "# Para cada par de features (x, y), teremos como saída (x, y, x^2, x*y, y^2)\n",
    "\n",
    "from sklearn.preprocessing import PolynomialFeatures\n",
    "\n",
    "polynomial = PolynomialFeatures(degree=2)\n",
    "polynomial.fit(X)\n",
    "X = polynomial.transform(X)"
   ]
  },
  {
   "cell_type": "code",
   "execution_count": 33,
   "metadata": {},
   "outputs": [
    {
     "data": {
      "text/plain": [
       "(889, 190)"
      ]
     },
     "execution_count": 33,
     "metadata": {},
     "output_type": "execute_result"
    }
   ],
   "source": [
    "# Note que isso transformou nossas 18 features em 190!\n",
    "\n",
    "X.shape"
   ]
  },
  {
   "cell_type": "code",
   "execution_count": 34,
   "metadata": {},
   "outputs": [],
   "source": [
    "# Vamos importar os classificadores que serão usados.\n",
    "# Para esse exercício, vamos comparar dois modelos. Um deles é o perceptron simples (reta de separação), \n",
    "# o outro é uma regressão logística (sigmóide com a probabilidade de uma classe).\n",
    "from sklearn.linear_model import Perceptron\n",
    "from sklearn.linear_model import LogisticRegression"
   ]
  },
  {
   "cell_type": "code",
   "execution_count": 35,
   "metadata": {
    "scrolled": false
   },
   "outputs": [
    {
     "name": "stdout",
     "output_type": "stream",
     "text": [
      "Score: 0.7862767154105736 para 1 features\n",
      "Score: 0.7862767154105736 para 2 features\n",
      "Score: 0.7862767154105736 para 3 features\n",
      "Score: 0.7862767154105736 para 4 features\n",
      "Score: 0.7862767154105736 para 5 features\n",
      "Score: 0.7862767154105736 para 6 features\n",
      "Score: 0.7862767154105736 para 7 features\n",
      "Score: 0.7862767154105736 para 8 features\n",
      "Score: 0.7862767154105736 para 9 features\n",
      "Score: 0.7862767154105736 para 10 features\n",
      "Score: 0.7862767154105736 para 11 features\n",
      "Score: 0.7862767154105736 para 12 features\n",
      "Score: 0.7896512935883014 para 13 features\n",
      "Score: 0.7896512935883014 para 14 features\n",
      "Score: 0.7896512935883014 para 15 features\n",
      "Score: 0.7986501687289089 para 16 features\n",
      "Score: 0.7997750281214848 para 17 features\n",
      "Score: 0.7997750281214848 para 18 features\n",
      "Score: 0.7997750281214848 para 19 features\n",
      "Score: 0.8200224971878515 para 20 features\n",
      "Score: 0.8200224971878515 para 21 features\n",
      "Score: 0.8200224971878515 para 22 features\n",
      "Score: 0.8200224971878515 para 23 features\n",
      "Score: 0.8200224971878515 para 24 features\n",
      "Score: 0.8200224971878515 para 25 features\n",
      "Score: 0.8211473565804275 para 26 features\n",
      "Score: 0.8211473565804275 para 27 features\n",
      "Score: 0.8211473565804275 para 28 features\n",
      "Score: 0.8200224971878515 para 29 features\n",
      "Score: 0.8200224971878515 para 30 features\n",
      "Score: 0.8211473565804275 para 31 features\n",
      "Score: 0.8188976377952756 para 32 features\n",
      "Score: 0.8177727784026997 para 33 features\n",
      "Score: 0.813273340832396 para 34 features\n",
      "Score: 0.813273340832396 para 35 features\n",
      "Score: 0.813273340832396 para 36 features\n",
      "Score: 0.8143982002249719 para 37 features\n",
      "Score: 0.8143982002249719 para 38 features\n",
      "Score: 0.8143982002249719 para 39 features\n",
      "Score: 0.8143982002249719 para 40 features\n",
      "Score: 0.8143982002249719 para 41 features\n",
      "Score: 0.8143982002249719 para 42 features\n",
      "Score: 0.8200224971878515 para 43 features\n",
      "Score: 0.8200224971878515 para 44 features\n",
      "Score: 0.8200224971878515 para 45 features\n",
      "Score: 0.8200224971878515 para 46 features\n",
      "Score: 0.8200224971878515 para 47 features\n",
      "Score: 0.8211473565804275 para 48 features\n",
      "Score: 0.8267716535433071 para 49 features\n",
      "Score: 0.8256467941507312 para 50 features\n",
      "Score: 0.8256467941507312 para 51 features\n",
      "Score: 0.8267716535433071 para 52 features\n",
      "Score: 0.8267716535433071 para 53 features\n",
      "Score: 0.829021372328459 para 54 features\n",
      "Score: 0.8278965129358831 para 55 features\n",
      "Score: 0.8346456692913385 para 56 features\n",
      "Score: 0.8346456692913385 para 57 features\n",
      "Score: 0.8346456692913385 para 58 features\n",
      "Score: 0.8346456692913385 para 59 features\n",
      "Score: 0.8335208098987626 para 60 features\n",
      "Score: 0.8368953880764904 para 61 features\n",
      "Score: 0.8368953880764904 para 62 features\n",
      "Score: 0.8368953880764904 para 63 features\n",
      "Score: 0.8380202474690663 para 64 features\n",
      "Score: 0.8368953880764904 para 65 features\n",
      "Score: 0.8368953880764904 para 66 features\n",
      "Score: 0.8301462317210349 para 67 features\n",
      "Score: 0.8312710911136107 para 68 features\n",
      "Score: 0.8357705286839145 para 69 features\n",
      "Score: 0.8357705286839145 para 70 features\n",
      "Score: 0.8368953880764904 para 71 features\n",
      "Score: 0.8368953880764904 para 72 features\n",
      "Score: 0.8346456692913385 para 73 features\n",
      "Score: 0.8335208098987626 para 74 features\n",
      "Score: 0.8335208098987626 para 75 features\n",
      "Score: 0.8335208098987626 para 76 features\n",
      "Score: 0.8346456692913385 para 77 features\n",
      "Score: 0.8357705286839145 para 78 features\n",
      "Score: 0.8357705286839145 para 79 features\n",
      "Score: 0.8312710911136107 para 80 features\n",
      "Score: 0.8335208098987626 para 81 features\n",
      "Score: 0.8346456692913385 para 82 features\n",
      "Score: 0.8335208098987626 para 83 features\n",
      "Score: 0.8346456692913385 para 84 features\n",
      "Score: 0.8346456692913385 para 85 features\n",
      "Score: 0.8335208098987626 para 86 features\n",
      "Score: 0.8357705286839145 para 87 features\n",
      "Score: 0.8380202474690663 para 88 features\n",
      "Score: 0.8380202474690663 para 89 features\n",
      "Score: 0.8357705286839145 para 90 features\n",
      "Score: 0.8391451068616423 para 91 features\n",
      "Score: 0.8391451068616423 para 92 features\n",
      "Score: 0.8391451068616423 para 93 features\n",
      "Score: 0.8391451068616423 para 94 features\n",
      "Score: 0.8391451068616423 para 95 features\n",
      "Score: 0.8402699662542182 para 96 features\n",
      "Score: 0.843644544431946 para 97 features\n",
      "Score: 0.843644544431946 para 98 features\n",
      "Score: 0.843644544431946 para 99 features\n",
      "Score: 0.843644544431946 para 100 features\n",
      "Score: 0.84251968503937 para 101 features\n",
      "Score: 0.84251968503937 para 102 features\n",
      "Score: 0.84251968503937 para 103 features\n",
      "Score: 0.84251968503937 para 104 features\n",
      "Score: 0.84251968503937 para 105 features\n",
      "Score: 0.84251968503937 para 106 features\n",
      "Score: 0.84251968503937 para 107 features\n",
      "Score: 0.84251968503937 para 108 features\n",
      "Score: 0.84251968503937 para 109 features\n",
      "Score: 0.84251968503937 para 110 features\n",
      "Score: 0.84251968503937 para 111 features\n",
      "Score: 0.84251968503937 para 112 features\n",
      "Score: 0.843644544431946 para 113 features\n",
      "Score: 0.843644544431946 para 114 features\n",
      "Score: 0.843644544431946 para 115 features\n",
      "Score: 0.843644544431946 para 116 features\n",
      "Score: 0.84251968503937 para 117 features\n",
      "Score: 0.84251968503937 para 118 features\n",
      "Score: 0.84251968503937 para 119 features\n",
      "Score: 0.84251968503937 para 120 features\n",
      "Score: 0.84251968503937 para 121 features\n",
      "Score: 0.84251968503937 para 122 features\n",
      "Score: 0.84251968503937 para 123 features\n",
      "Score: 0.84251968503937 para 124 features\n",
      "Score: 0.84251968503937 para 125 features\n",
      "Score: 0.84251968503937 para 126 features\n",
      "Score: 0.84251968503937 para 127 features\n",
      "Score: 0.84251968503937 para 128 features\n",
      "Score: 0.84251968503937 para 129 features\n",
      "Score: 0.84251968503937 para 130 features\n",
      "Score: 0.84251968503937 para 131 features\n",
      "Score: 0.84251968503937 para 132 features\n",
      "Score: 0.84251968503937 para 133 features\n",
      "Score: 0.84251968503937 para 134 features\n",
      "Score: 0.84251968503937 para 135 features\n",
      "Score: 0.84251968503937 para 136 features\n",
      "Score: 0.84251968503937 para 137 features\n",
      "Score: 0.84251968503937 para 138 features\n",
      "Score: 0.84251968503937 para 139 features\n",
      "Score: 0.8402699662542182 para 140 features\n",
      "Score: 0.8402699662542182 para 141 features\n",
      "Score: 0.8402699662542182 para 142 features\n",
      "Score: 0.8402699662542182 para 143 features\n",
      "Score: 0.8402699662542182 para 144 features\n",
      "Score: 0.8402699662542182 para 145 features\n",
      "Score: 0.8391451068616423 para 146 features\n",
      "Score: 0.8391451068616423 para 147 features\n",
      "Score: 0.8391451068616423 para 148 features\n",
      "Score: 0.8391451068616423 para 149 features\n",
      "Score: 0.8402699662542182 para 150 features\n",
      "Score: 0.8402699662542182 para 151 features\n",
      "Score: 0.8402699662542182 para 152 features\n",
      "Score: 0.8402699662542182 para 153 features\n",
      "Score: 0.8402699662542182 para 154 features\n",
      "Score: 0.8402699662542182 para 155 features\n",
      "Score: 0.8402699662542182 para 156 features\n",
      "Score: 0.8402699662542182 para 157 features\n",
      "Score: 0.8402699662542182 para 158 features\n",
      "Score: 0.8402699662542182 para 159 features\n",
      "Score: 0.8402699662542182 para 160 features\n",
      "Score: 0.8402699662542182 para 161 features\n",
      "Score: 0.8402699662542182 para 162 features\n",
      "Score: 0.8402699662542182 para 163 features\n",
      "Score: 0.8402699662542182 para 164 features\n",
      "Score: 0.8402699662542182 para 165 features\n",
      "Score: 0.8402699662542182 para 166 features\n",
      "Score: 0.8402699662542182 para 167 features\n",
      "Score: 0.8402699662542182 para 168 features\n",
      "Score: 0.8402699662542182 para 169 features\n",
      "Score: 0.8402699662542182 para 170 features\n",
      "Score: 0.8402699662542182 para 171 features\n",
      "Score: 0.8402699662542182 para 172 features\n",
      "Score: 0.8402699662542182 para 173 features\n",
      "Score: 0.8402699662542182 para 174 features\n",
      "Score: 0.8402699662542182 para 175 features\n",
      "Score: 0.8402699662542182 para 176 features\n",
      "Score: 0.8402699662542182 para 177 features\n",
      "Score: 0.8402699662542182 para 178 features\n",
      "Score: 0.8402699662542182 para 179 features\n",
      "Score: 0.8402699662542182 para 180 features\n",
      "Score: 0.8402699662542182 para 181 features\n",
      "Score: 0.8402699662542182 para 182 features\n",
      "Score: 0.8402699662542182 para 183 features\n",
      "Score: 0.8402699662542182 para 184 features\n",
      "Score: 0.8402699662542182 para 185 features\n",
      "Score: 0.8402699662542182 para 186 features\n",
      "Score: 0.8402699662542182 para 187 features\n",
      "Score: 0.8402699662542182 para 188 features\n",
      "Score: 0.8402699662542182 para 189 features\n",
      "Score: 0.8402699662542182 para 190 features\n",
      "Melhor resultado: 0.843644544431946 para 97 features\n"
     ]
    }
   ],
   "source": [
    "# Usamos agora uma regressão logística para selecionar qual o maior conjunto de features necessário para\n",
    "# o modelo. Como esse é um problema de classificação, selecionaremos as features que tem o melhor score chi-quadrado.\n",
    "# (que é um índice de correspondência de variância na expectativa e na distribuição dos dados). Um score maior significa\n",
    "# maior chance de novos dados seguirem a mesma distribuição, levando a um E_out menor.\n",
    "\n",
    "from sklearn.feature_selection import SelectKBest\n",
    "from sklearn.feature_selection import chi2\n",
    "\n",
    "lr_test = LogisticRegression()\n",
    "best_score = 0\n",
    "ideal_n = 0\n",
    "\n",
    "# Entre 1 e 190 features, ordenadas da 'melhor' para a 'pior' (segundo o chi-quadrado), \n",
    "# qual o número de features que dá o melhor resultado de validação? Com qual score?\n",
    "for i in range(1, 191):\n",
    "    k_best = SelectKBest(score_func=chi2, k=i)\n",
    "    k_best.fit(X, y)\n",
    "    \n",
    "    test_X = k_best.transform(X)\n",
    "    lr_test.fit(test_X, y)\n",
    "    score = lr_test.score(test_X, y)\n",
    "    print(f'Score: {score} para {i} features')\n",
    "    \n",
    "    if score > best_score:\n",
    "        best_score = score\n",
    "        ideal_n = i\n",
    "        \n",
    "print(f'Melhor resultado: {best_score} para {ideal_n} features')"
   ]
  },
  {
   "cell_type": "code",
   "execution_count": 36,
   "metadata": {},
   "outputs": [],
   "source": [
    "# Podemos ver que muitas features (provavelmente das criadas com os polinômios) são irrelevantes para o modelo!\n",
    "\n",
    "# Selecionaremos somente as melhores features em X\n",
    "\n",
    "k_best = SelectKBest(score_func=chi2, k=ideal_n)\n",
    "k_best.fit(X, y)\n",
    "X = k_best.transform(X)"
   ]
  },
  {
   "cell_type": "code",
   "execution_count": 37,
   "metadata": {},
   "outputs": [],
   "source": [
    "# Criamos as instâncias para cada classificador\n",
    "\n",
    "perceptron = Perceptron()\n",
    "logistic_regression = LogisticRegression()"
   ]
  },
  {
   "cell_type": "code",
   "execution_count": 38,
   "metadata": {},
   "outputs": [
    {
     "data": {
      "text/plain": [
       "LogisticRegression(C=1.0, class_weight=None, dual=False, fit_intercept=True,\n",
       "          intercept_scaling=1, max_iter=100, multi_class='warn',\n",
       "          n_jobs=None, penalty='l2', random_state=None, solver='warn',\n",
       "          tol=0.0001, verbose=0, warm_start=False)"
      ]
     },
     "execution_count": 38,
     "metadata": {},
     "output_type": "execute_result"
    }
   ],
   "source": [
    "# O método fit() é usado para treinar os modelos com os valores de treinamento\n",
    "\n",
    "perceptron.fit(X, y)\n",
    "logistic_regression.fit(X, y)"
   ]
  },
  {
   "cell_type": "code",
   "execution_count": 39,
   "metadata": {},
   "outputs": [
    {
     "name": "stdout",
     "output_type": "stream",
     "text": [
      "O score do Perceptron é 0.8065241844769404\n",
      "O score do LogReg é 0.843644544431946\n"
     ]
    }
   ],
   "source": [
    "# Os scores nos mostram como os modelos se saíram na validação dos dados.\n",
    "# A partir dos scores de treinamento, podemos calcular o E_in e criar expectativas sobre E_out.\n",
    "\n",
    "print(f'O score do Perceptron é {perceptron.score(X, y)}')\n",
    "print(f'O score do LogReg é {logistic_regression.score(X, y)}')"
   ]
  },
  {
   "cell_type": "code",
   "execution_count": 40,
   "metadata": {},
   "outputs": [
    {
     "data": {
      "text/plain": [
       "<module 'matplotlib.pyplot' from 'c:\\\\users\\\\renan\\\\appdata\\\\local\\\\programs\\\\python\\\\python36\\\\lib\\\\site-packages\\\\matplotlib\\\\pyplot.py'>"
      ]
     },
     "execution_count": 40,
     "metadata": {},
     "output_type": "execute_result"
    },
    {
     "data": {
      "image/png": "[encoded data removed]",
      "text/plain": [
       "<Figure size 432x288 with 1 Axes>"
      ]
     },
     "metadata": {
      "needs_background": "light"
     },
     "output_type": "display_data"
    }
   ],
   "source": [
    "# A curva de aprendizado do perceptron mostra que o modelo é bom, mas instável - acrescentar dados\n",
    "# só fará com que a reta seja diferente, variando o erro de treinamento e validação.\n",
    "\n",
    "plot_learning_curve(perceptron, X, y)"
   ]
  },
  {
   "cell_type": "code",
   "execution_count": 41,
   "metadata": {},
   "outputs": [
    {
     "data": {
      "text/plain": [
       "<module 'matplotlib.pyplot' from 'c:\\\\users\\\\renan\\\\appdata\\\\local\\\\programs\\\\python\\\\python36\\\\lib\\\\site-packages\\\\matplotlib\\\\pyplot.py'>"
      ]
     },
     "execution_count": 41,
     "metadata": {},
     "output_type": "execute_result"
    },
    {
     "data": {
      "image/png": "[encoded data removed]",
      "text/plain": [
       "<Figure size 432x288 with 1 Axes>"
      ]
     },
     "metadata": {
      "needs_background": "light"
     },
     "output_type": "display_data"
    }
   ],
   "source": [
    "# Já a curva da regressão logística mostra estabilidade em E_in, e permite ver\n",
    "# uma expectativa clara de score para o modelo quando treinado com maior quantidade de dados.\n",
    "\n",
    "plot_learning_curve(logistic_regression, X, y)"
   ]
  },
  {
   "cell_type": "code",
   "execution_count": null,
   "metadata": {},
   "outputs": [],
   "source": []
  }
 ],
 "metadata": {
  "kernelspec": {
   "display_name": "Python 3",
   "language": "python",
   "name": "python3"
  },
  "language_info": {
   "codemirror_mode": {
    "name": "ipython",
    "version": 3
   },
   "file_extension": ".py",
   "mimetype": "text/x-python",
   "name": "python",
   "nbconvert_exporter": "python",
   "pygments_lexer": "ipython3",
   "version": "3.6.4"
  }
 },
 "nbformat": 4,
 "nbformat_minor": 2
}
